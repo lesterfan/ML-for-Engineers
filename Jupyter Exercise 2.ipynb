{
 "cells": [
  {
   "cell_type": "markdown",
   "metadata": {},
   "source": [
    "# Synthetic Data\n",
    "\n",
    "## Problem 1\n",
    "Here is the Python code to create a matrix $A \\in \\mathbb{R}^{3 \\times 2}$ \n",
    "whose individual entires are drawn from a Gaussian distribution with mean 0 and \n",
    "variance 1 in an iid fashion. "
   ]
  },
  {
   "cell_type": "code",
   "execution_count": 113,
   "metadata": {},
   "outputs": [
    {
     "name": "stdout",
     "output_type": "stream",
     "text": [
      "[[-0.17926302  0.31978681]\n",
      " [-1.57485409 -0.81205371]\n",
      " [ 0.80122514  0.73300686]]\n"
     ]
    }
   ],
   "source": [
    "import numpy as np\n",
    "A = np.random.normal(0, 1, (3, 2))\n",
    "print A"
   ]
  },
  {
   "cell_type": "code",
   "execution_count": 114,
   "metadata": {},
   "outputs": [
    {
     "name": "stdout",
     "output_type": "stream",
     "text": [
      "2\n"
     ]
    }
   ],
   "source": [
    "print np.linalg.matrix_rank(A)"
   ]
  },
  {
   "cell_type": "markdown",
   "metadata": {},
   "source": [
    "Matrices with iid Gaussian entries are always full rank. Here, the rank is 2."
   ]
  },
  {
   "cell_type": "markdown",
   "metadata": {},
   "source": [
    "# Generation of Dataset 1\n",
    "\n",
    "## Problem 1\n",
    "Here is the generation of 500 data samples $X = \\{x_i = Av_i\\}_{i = 1}^{500}$ using the mathematical model that each $v_i \\in \\mathbb{R}^2$ is a random vector whose entries are iid Gaussian with mean 0 and variance 1. Note that the dimensionality of $X$ confirms my expectations. Furthermore, we can verify as well that the matrix has rank 2."
   ]
  },
  {
   "cell_type": "code",
   "execution_count": 116,
   "metadata": {
    "scrolled": true
   },
   "outputs": [
    {
     "name": "stdout",
     "output_type": "stream",
     "text": [
      "(3, 500)\n"
     ]
    }
   ],
   "source": [
    "N = 500\n",
    "X = np.concatenate([np.matmul(A, np.random.normal(0, 1, (2, 1))) for i in range(N)], axis = 1)\n",
    "print X.shape"
   ]
  },
  {
   "cell_type": "code",
   "execution_count": 117,
   "metadata": {},
   "outputs": [
    {
     "name": "stdout",
     "output_type": "stream",
     "text": [
      "2\n"
     ]
    }
   ],
   "source": [
    "print np.linalg.matrix_rank(X)"
   ]
  },
  {
   "cell_type": "markdown",
   "metadata": {},
   "source": [
    "# Singular Value and Eigenvalue Decomposition of Dataset 1\n",
    "\n",
    "## Problem 1\n",
    "Here is the computation of the SVD of $X$ and the EV decomposition of $XX^T$ and my verification that \n",
    "\n",
    "1. The left singular vectors of $X$ correspond to the eigenvectors of $XX^T$.\n",
    "2. The eigenvalues of $XX^T$ are the square of the singular values of $X$.\n",
    "3. The energy in $X$ is equal to the sum of the squares of the singular values of $X$."
   ]
  },
  {
   "cell_type": "code",
   "execution_count": 118,
   "metadata": {},
   "outputs": [],
   "source": [
    "# Calculation of the SVD of X and the EVD of XX^T\n",
    "U, S, Vt = np.linalg.svd(X)\n",
    "D, E = np.linalg.eig(np.matmul(X, X.transpose()))"
   ]
  },
  {
   "cell_type": "code",
   "execution_count": 119,
   "metadata": {},
   "outputs": [
    {
     "name": "stdout",
     "output_type": "stream",
     "text": [
      "Left singular vectors of X = \n",
      "[[ 0.0058102   0.83219762 -0.5544487 ]\n",
      " [-0.85658895  0.29022866  0.42664118]\n",
      " [ 0.51596668  0.47245576  0.71453757]]\n",
      "Eigenvectors of XX^T = \n",
      "[[ 0.83219762  0.5544487   0.0058102 ]\n",
      " [ 0.29022866 -0.42664118 -0.85658895]\n",
      " [ 0.47245576 -0.71453757  0.51596668]]\n"
     ]
    }
   ],
   "source": [
    "# Verification of condition 1 -- note that each column of U has a corresponding column in E.\n",
    "print \"Left singular vectors of X = \"\n",
    "print U\n",
    "print \"Eigenvectors of XX^T = \"\n",
    "print E"
   ]
  },
  {
   "cell_type": "code",
   "execution_count": 126,
   "metadata": {},
   "outputs": [
    {
     "name": "stdout",
     "output_type": "stream",
     "text": [
      "Eigenvalues of XX^T = \n",
      "[  9.40167420e+01  -3.26849658e-13   1.89506696e+03]\n",
      "Singular values of X = \n",
      "[  4.35323668e+01   9.69622308e+00   4.95216698e-15]\n",
      "Square of the singular values of X = \n",
      "[  1.89506696e+03   9.40167420e+01   2.45239578e-29]\n"
     ]
    }
   ],
   "source": [
    "# Verification of condition 2:\n",
    "# Note that the -3.26849658e-13 and 2.45239578e-29 are likely due to the \n",
    "# propogation of error when doing numerical computation on a computer \n",
    "# (they are both basically 0), and one\n",
    "# is negative and the other is positive to account for the \n",
    "# negative/positive difference in a pair of vectors\n",
    "# above.\n",
    "print \"Eigenvalues of XX^T = \"\n",
    "print D\n",
    "print \"Singular values of X = \"\n",
    "print S\n",
    "print \"Square of the singular values of X = \"\n",
    "print np.square(S)"
   ]
  },
  {
   "cell_type": "code",
   "execution_count": 122,
   "metadata": {},
   "outputs": [
    {
     "name": "stdout",
     "output_type": "stream",
     "text": [
      "Energy of X = 1989.08370217\n",
      "Sum of the squares of the singular values of X = 1989.08370217\n"
     ]
    }
   ],
   "source": [
    "# Verification of condition 3:\n",
    "print \"Energy of X = {}\".format( np.square(np.linalg.norm(X)) )\n",
    "print \"Sum of the squares of the singular values of X = {}\".format( sum([np.square(sigma) for sigma in S]) )"
   ]
  },
  {
   "cell_type": "markdown",
   "metadata": {},
   "source": [
    "## Problem 2\n",
    "None of the singular values are exactly zero, but one of them is very close to zero (4.95e-15). None of my singular values are zero because of the propogation of error when doing numerical computations on a computer.\n",
    "\n"
   ]
  },
  {
   "cell_type": "code",
   "execution_count": 127,
   "metadata": {},
   "outputs": [
    {
     "name": "stdout",
     "output_type": "stream",
     "text": [
      "[[-0.17926302  0.31978681]\n",
      " [-1.57485409 -0.81205371]\n",
      " [ 0.80122514  0.73300686]]\n"
     ]
    }
   ],
   "source": [
    "print A"
   ]
  },
  {
   "cell_type": "code",
   "execution_count": 128,
   "metadata": {},
   "outputs": [
    {
     "name": "stdout",
     "output_type": "stream",
     "text": [
      "[  4.35323668e+01   9.69622308e+00   4.95216698e-15]\n"
     ]
    }
   ],
   "source": [
    "print S"
   ]
  },
  {
   "cell_type": "code",
   "execution_count": 129,
   "metadata": {},
   "outputs": [
    {
     "name": "stdout",
     "output_type": "stream",
     "text": [
      "[[ 0.0058102   0.83219762 -0.5544487 ]\n",
      " [-0.85658895  0.29022866  0.42664118]\n",
      " [ 0.51596668  0.47245576  0.71453757]]\n"
     ]
    }
   ],
   "source": [
    "print U"
   ]
  },
  {
   "cell_type": "markdown",
   "metadata": {},
   "source": [
    "We know that the left singular values of $X$ corresponding to the two largest singular values are also eigenvalues of $XX^T$, and we know that \n",
    "\n",
    "$$ \n",
    "XX^T = A(\\sum_{i = 1}^{500}v_iv_i^T)A^T\n",
    "$$\n",
    "\n",
    "So the relationship between singular value $\\sigma_j$, its singular vector $U_j$ and $A$ is:\n",
    "\n",
    "$$\n",
    "[A(\\sum_{i = 1}^{500}v_iv_i^T)A^T]U_j = \\sigma_j^2 U_j\n",
    "$$"
   ]
  },
  {
   "cell_type": "markdown",
   "metadata": {},
   "source": [
    "# PCA of Dataset 1\n",
    "\n",
    "## Problem 1\n",
    "Since the original matrix was of rank 2, just having 2 principal components should suffice because the data originally had two dimensions of freedom, not three.\n",
    "\n",
    "## Problem 2\n",
    "Here is the proof that $E[x_k] = 0, k = 1, 2, 3$:\n",
    "Each $x_k$ is an iid N(0, 1) random variable. Therefore, $E[x_k] = 0$ for $k = 1, 2, 3$.\n",
    "Here is the computation of the mean vector. As we can see, the values are all close to 0."
   ]
  },
  {
   "cell_type": "code",
   "execution_count": 135,
   "metadata": {},
   "outputs": [
    {
     "name": "stdout",
     "output_type": "stream",
     "text": [
      "[-0.01115677 -0.0607125   0.0275935 ]\n"
     ]
    }
   ],
   "source": [
    "m = np.mean(X, axis = 1)\n",
    "print m"
   ]
  },
  {
   "cell_type": "code",
   "execution_count": null,
   "metadata": {},
   "outputs": [],
   "source": []
  }
 ],
 "metadata": {
  "kernelspec": {
   "display_name": "Python 2",
   "language": "python",
   "name": "python2"
  },
  "language_info": {
   "codemirror_mode": {
    "name": "ipython",
    "version": 2
   },
   "file_extension": ".py",
   "mimetype": "text/x-python",
   "name": "python",
   "nbconvert_exporter": "python",
   "pygments_lexer": "ipython2",
   "version": "2.7.11"
  }
 },
 "nbformat": 4,
 "nbformat_minor": 2
}

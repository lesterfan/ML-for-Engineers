{
 "cells": [
  {
   "cell_type": "code",
   "execution_count": 5,
   "metadata": {},
   "outputs": [],
   "source": [
    "from collections import defaultdict\n",
    "import numpy as np\n",
    "import matplotlib.pyplot as plt\n",
    "import heapq\n",
    "\n",
    "def normalize(A):\n",
    "    stds = [np.std(A[r,:]) for r in range(A.shape[0])]\n",
    "    for r in range(A.shape[0]):\n",
    "        A[r,:] /= stds[r]\n",
    "    return A\n",
    "\n",
    "def centralize(A):\n",
    "    means = [np.mean(A[r,:]) for r in range(A.shape[0])]\n",
    "    for r in range(A.shape[0]):\n",
    "        A[r,:] -= means[r]\n",
    "    return A\n",
    "\n",
    "def PCA(A, numComponents, norm = False):\n",
    "    # First, center the data\n",
    "    A = centralize(A)\n",
    "    # If needed, normalize the data as well.\n",
    "    if norm:\n",
    "        A = normalize(A)\n",
    "    \n",
    "    # Now, compute the SVD, and reduce the dimensions of A.\n",
    "    U, Sigma, Vt = np.linalg.svd(A)\n",
    "    D = np.matmul(A.T, U[:,:numComponents])\n",
    "    \n",
    "    return D.T\n",
    "\n",
    "def makeScatterPlot(title, pointsLists, colors):\n",
    "    # Create plot\n",
    "    fig = plt.figure()\n",
    "    ax = fig.add_subplot(1, 1, 1)\n",
    "     \n",
    "    for i, pointsList in enumerate(pointsLists):\n",
    "        currColor = colors[i]\n",
    "        for point in pointsList:\n",
    "            x, y = point\n",
    "            ax.scatter(x, y, c=currColor)\n",
    "        \n",
    "    plt.title(title)\n",
    "    plt.legend(loc=2)\n",
    "    plt.show()\n",
    "    \n",
    "    "
   ]
  },
  {
   "cell_type": "markdown",
   "metadata": {},
   "source": [
    "# Problem 1\n",
    "Here is the code for the first problem:"
   ]
  },
  {
   "cell_type": "code",
   "execution_count": 6,
   "metadata": {},
   "outputs": [
    {
     "ename": "ImportError",
     "evalue": "cannot import name load_wine",
     "output_type": "error",
     "traceback": [
      "\u001b[1;31m---------------------------------------------------------------------------\u001b[0m",
      "\u001b[1;31mImportError\u001b[0m                               Traceback (most recent call last)",
      "\u001b[1;32m<ipython-input-6-6cbf869b42d5>\u001b[0m in \u001b[0;36m<module>\u001b[1;34m()\u001b[0m\n\u001b[1;32m----> 1\u001b[1;33m \u001b[1;32mfrom\u001b[0m \u001b[0msklearn\u001b[0m\u001b[1;33m.\u001b[0m\u001b[0mdatasets\u001b[0m \u001b[1;32mimport\u001b[0m \u001b[0mload_wine\u001b[0m\u001b[1;33m\u001b[0m\u001b[0m\n\u001b[0m\u001b[0;32m      2\u001b[0m \u001b[1;32mdef\u001b[0m \u001b[0mproblemOne\u001b[0m\u001b[1;33m(\u001b[0m\u001b[1;33m)\u001b[0m\u001b[1;33m:\u001b[0m\u001b[1;33m\u001b[0m\u001b[0m\n\u001b[0;32m      3\u001b[0m     \u001b[0msamples\u001b[0m\u001b[1;33m,\u001b[0m \u001b[0mlabels\u001b[0m \u001b[1;33m=\u001b[0m \u001b[0mload_wine\u001b[0m\u001b[1;33m(\u001b[0m\u001b[0mreturn_X_y\u001b[0m\u001b[1;33m=\u001b[0m\u001b[0mTrue\u001b[0m\u001b[1;33m)\u001b[0m\u001b[1;33m\u001b[0m\u001b[0m\n\u001b[0;32m      4\u001b[0m     \u001b[0mcolSamples\u001b[0m \u001b[1;33m=\u001b[0m \u001b[0msamples\u001b[0m\u001b[1;33m.\u001b[0m\u001b[0mT\u001b[0m\u001b[1;33m\u001b[0m\u001b[0m\n\u001b[0;32m      5\u001b[0m \u001b[1;33m\u001b[0m\u001b[0m\n",
      "\u001b[1;31mImportError\u001b[0m: cannot import name load_wine"
     ]
    }
   ],
   "source": [
    "from sklearn.datasets import load_wine\n",
    "def problemOne():\n",
    "    samples, labels = load_wine(return_X_y=True)\n",
    "    colSamples = samples.T\n",
    "    \n",
    "    # Parts 1-2 : centralize, do PCA, and make a scatter plot.\n",
    "    PCAsamples = PCA(colSamples, 2)\n",
    "    pointsLists = [[PCAsamples[:, i] for i, label in enumerate(labels) if label == target] for target in range(3)]\n",
    "    colors = [\"red\", \"green\", \"blue\"]\n",
    "    makeScatterPlot(\"First Scatter Plot (centralized)\", pointsLists, colors)\n",
    "    \n",
    "    # Part 3: Normalize the centered wine dataset, and make another scatter plot\n",
    "    nPCASamples = PCA(colSamples, 2, norm = True)\n",
    "    nPointsLists = [[nPCASamples[:, i] for i, label in enumerate(labels) if label == target] for target in range(3)]\n",
    "    colors = [\"red\", \"green\", \"blue\"]\n",
    "    makeScatterPlot(\"Second Scatter Plot (centralized and normalized)\", nPointsLists, colors)\n",
    "    \n",
    "    \n",
    "problemOne()"
   ]
  },
  {
   "cell_type": "markdown",
   "metadata": {},
   "source": [
    "IMO, the PCA features of the normalized and centralized data would be lead to better classification performance because the different colors are seperated more clearly."
   ]
  },
  {
   "cell_type": "markdown",
   "metadata": {},
   "source": [
    "# Problem 2\n",
    "Here is the code for the second problem:"
   ]
  },
  {
   "cell_type": "code",
   "execution_count": 4,
   "metadata": {},
   "outputs": [
    {
     "ename": "NameError",
     "evalue": "global name 'load_wine' is not defined",
     "output_type": "error",
     "traceback": [
      "\u001b[1;31m---------------------------------------------------------------------------\u001b[0m",
      "\u001b[1;31mNameError\u001b[0m                                 Traceback (most recent call last)",
      "\u001b[1;32m<ipython-input-4-4d204ea7a42d>\u001b[0m in \u001b[0;36m<module>\u001b[1;34m()\u001b[0m\n\u001b[0;32m     16\u001b[0m \u001b[1;33m\u001b[0m\u001b[0m\n\u001b[0;32m     17\u001b[0m \u001b[1;33m\u001b[0m\u001b[0m\n\u001b[1;32m---> 18\u001b[1;33m \u001b[0mquestionTwo\u001b[0m\u001b[1;33m(\u001b[0m\u001b[1;33m)\u001b[0m\u001b[1;33m\u001b[0m\u001b[0m\n\u001b[0m\u001b[0;32m     19\u001b[0m \u001b[1;33m\u001b[0m\u001b[0m\n\u001b[0;32m     20\u001b[0m \u001b[1;33m\u001b[0m\u001b[0m\n",
      "\u001b[1;32m<ipython-input-4-4d204ea7a42d>\u001b[0m in \u001b[0;36mquestionTwo\u001b[1;34m()\u001b[0m\n\u001b[0;32m      8\u001b[0m \u001b[1;33m\u001b[0m\u001b[0m\n\u001b[0;32m      9\u001b[0m \u001b[1;32mdef\u001b[0m \u001b[0mquestionTwo\u001b[0m\u001b[1;33m(\u001b[0m\u001b[1;33m)\u001b[0m\u001b[1;33m:\u001b[0m\u001b[1;33m\u001b[0m\u001b[0m\n\u001b[1;32m---> 10\u001b[1;33m     \u001b[0msamples\u001b[0m\u001b[1;33m,\u001b[0m \u001b[0mlabels\u001b[0m \u001b[1;33m=\u001b[0m \u001b[0mload_wine\u001b[0m\u001b[1;33m(\u001b[0m\u001b[0mreturn_X_y\u001b[0m\u001b[1;33m=\u001b[0m\u001b[0mTrue\u001b[0m\u001b[1;33m)\u001b[0m\u001b[1;33m\u001b[0m\u001b[0m\n\u001b[0m\u001b[0;32m     11\u001b[0m     \u001b[0mcolSamples\u001b[0m \u001b[1;33m=\u001b[0m \u001b[0msamples\u001b[0m\u001b[1;33m.\u001b[0m\u001b[0mT\u001b[0m\u001b[1;33m\u001b[0m\u001b[0m\n\u001b[0;32m     12\u001b[0m     \u001b[0mnPCASamples\u001b[0m \u001b[1;33m=\u001b[0m \u001b[0mPCA\u001b[0m\u001b[1;33m(\u001b[0m\u001b[0mcolSamples\u001b[0m\u001b[1;33m,\u001b[0m \u001b[1;36m2\u001b[0m\u001b[1;33m,\u001b[0m \u001b[0mnorm\u001b[0m \u001b[1;33m=\u001b[0m \u001b[0mTrue\u001b[0m\u001b[1;33m)\u001b[0m\u001b[1;33m\u001b[0m\u001b[0m\n",
      "\u001b[1;31mNameError\u001b[0m: global name 'load_wine' is not defined"
     ]
    }
   ],
   "source": [
    "def naiveBayesTrain(pointsLists):\n",
    "    means = []\n",
    "    stds = []\n",
    "    for pointsList in pointsLists:\n",
    "        pointArr = np.array(pointsList)\n",
    "        print pointArr\n",
    "        \n",
    "\n",
    "def questionTwo():\n",
    "    samples, labels = load_wine(return_X_y=True)\n",
    "    colSamples = samples.T\n",
    "    nPCASamples = PCA(colSamples, 2, norm = True)\n",
    "    nPointsLists = [[nPCASamples[:, i] for i, label in enumerate(labels) if label == target] for target in range(3)]\n",
    "\n",
    "    \n",
    "    \n",
    "\n",
    "questionTwo()\n",
    "        \n",
    "        "
   ]
  },
  {
   "cell_type": "code",
   "execution_count": null,
   "metadata": {},
   "outputs": [],
   "source": []
  }
 ],
 "metadata": {
  "kernelspec": {
   "display_name": "Python 2",
   "language": "python",
   "name": "python2"
  },
  "language_info": {
   "codemirror_mode": {
    "name": "ipython",
    "version": 2
   },
   "file_extension": ".py",
   "mimetype": "text/x-python",
   "name": "python",
   "nbconvert_exporter": "python",
   "pygments_lexer": "ipython2",
   "version": "2.7.11"
  }
 },
 "nbformat": 4,
 "nbformat_minor": 2
}

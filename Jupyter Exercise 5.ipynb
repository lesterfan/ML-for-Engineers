{
 "cells": [
  {
   "cell_type": "markdown",
   "metadata": {},
   "source": [
    "# Wine Dataset\n",
    "Below is a short core library to do PCA, centralize normalize, and make scatter plots (similar to the library in the Jupyter Exercise 4). This code will be used in the future sections."
   ]
  },
  {
   "cell_type": "code",
   "execution_count": 27,
   "metadata": {},
   "outputs": [],
   "source": [
    "from collections import defaultdict\n",
    "import numpy as np\n",
    "import matplotlib.pyplot as plt\n",
    "import heapq\n",
    "import math\n",
    "\n",
    "def normalize(A):\n",
    "    stds = [np.std(A[r,:]) for r in range(A.shape[0])]\n",
    "    for r in range(A.shape[0]):\n",
    "        A[r,:] /= stds[r]\n",
    "    return A\n",
    "\n",
    "def centralize(A):\n",
    "    means = [np.mean(A[r,:]) for r in range(A.shape[0])]\n",
    "    for r in range(A.shape[0]):\n",
    "        A[r,:] -= means[r]\n",
    "    return A\n",
    "\n",
    "def PCA(A, numComponents, norm = False):\n",
    "    # First, center the data\n",
    "    A = centralize(A)\n",
    "    # If needed, normalize the data as well.\n",
    "    if norm:\n",
    "        A = normalize(A)\n",
    "    \n",
    "    # Now, compute the SVD, and reduce the dimensions of A.\n",
    "    U, Sigma, Vt = np.linalg.svd(A)\n",
    "    D = np.matmul(A.T, U[:,:numComponents])\n",
    "    \n",
    "    return D.T\n",
    "\n",
    "def makeScatterPlot(title, pointsLists, colors, markers):\n",
    "    # Create plot\n",
    "    fig = plt.figure()\n",
    "    ax = fig.add_subplot(1, 1, 1)\n",
    "     \n",
    "    for i, pointsList in enumerate(pointsLists):\n",
    "        currColor = colors[i]\n",
    "        currMarker = markers[i]\n",
    "        for point in pointsList:\n",
    "            x, y = point\n",
    "            ax.scatter(x, y, c=currColor, marker=currMarker)\n",
    "        \n",
    "    plt.title(title)\n",
    "    plt.legend(loc=2)\n",
    "    plt.show()\n",
    "    \n",
    "    "
   ]
  },
  {
   "cell_type": "markdown",
   "metadata": {},
   "source": [
    "# Problem 1\n",
    "Here is the code for the first problem:"
   ]
  },
  {
   "cell_type": "code",
   "execution_count": 31,
   "metadata": {},
   "outputs": [
    {
     "data": {
      "image/png": "[encoded data removed]",
      "text/plain": [
       "<Figure size 432x288 with 1 Axes>"
      ]
     },
     "metadata": {
      "needs_background": "light"
     },
     "output_type": "display_data"
    },
    {
     "data": {
      "image/png": "[encoded data removed]",
      "text/plain": [
       "<Figure size 432x288 with 1 Axes>"
      ]
     },
     "metadata": {
      "needs_background": "light"
     },
     "output_type": "display_data"
    }
   ],
   "source": [
    "from sklearn.datasets import load_wine\n",
    "def problemOne():\n",
    "    samples, labels = load_wine(return_X_y=True)\n",
    "    colSamples = samples.T\n",
    "    \n",
    "    # Parts 1-2 : centralize, do PCA, and make a scatter plot.\n",
    "    PCAsamples = PCA(colSamples, 2)\n",
    "    pointsLists = [[PCAsamples[:, i] for i, label in enumerate(labels) if label == target] for target in range(3)]\n",
    "    colors = [\"red\", \"green\", \"blue\"]\n",
    "    markers = [\"s\", \"^\", \"o\"]\n",
    "    makeScatterPlot(\"First Scatter Plot (centralized)\", pointsLists, colors, markers)\n",
    "    \n",
    "    # Part 3: Normalize the centered wine dataset, and make another scatter plot\n",
    "    nPCASamples = PCA(colSamples, 2, norm = True)\n",
    "    nPointsLists = [[nPCASamples[:, i] for i, label in enumerate(labels) if label == target] for target in range(3)]\n",
    "    colors = [\"red\", \"green\", \"blue\"]\n",
    "    markers = [\"s\", \"^\", \"o\"]\n",
    "    makeScatterPlot(\"Second Scatter Plot (centralized and normalized)\", nPointsLists, colors, markers)\n",
    "    \n",
    "    \n",
    "problemOne()\n",
    "\n"
   ]
  },
  {
   "cell_type": "markdown",
   "metadata": {},
   "source": [
    "IMO, the PCA features of the normalized and centralized data would be lead to better classification performance because the different colors are seperated more clearly."
   ]
  },
  {
   "cell_type": "markdown",
   "metadata": {},
   "source": [
    "# Problem 2\n",
    "Here is the code for the second problem. Most of the relevant code is in the \"normPDFboi\", \"NaiveBayesBoi\" and \"CrossValidationBoi\" code stubs."
   ]
  },
  {
   "cell_type": "code",
   "execution_count": 30,
   "metadata": {},
   "outputs": [
    {
     "name": "stdout",
     "output_type": "stream",
     "text": [
      "Only centered data:\n",
      "Fracs correct = [0.6571428571428571, 0.8571428571428571, 0.8, 0.8, 0.6578947368421053]\n",
      "mean = 0.754436090226\n",
      "variance = 0.00669740516705\n",
      "\n",
      "Centered and normalized (standardized) data:\n",
      "Fracs correct = [1.0, 1.0, 0.9428571428571428, 0.9714285714285714, 0.9210526315789473]\n",
      "mean = 0.967067669173\n",
      "variance = 0.000978325513031\n",
      "\n",
      "Centered and normalized (standardized) data, using scikit-learn:\n",
      "Fracs correct = [0.9714285714285714, 0.9428571428571428, 1.0, 0.9428571428571428, 0.9473684210526315]\n",
      "mean = 0.960902255639\n",
      "variance = 0.00049477076149\n",
      "\n"
     ]
    }
   ],
   "source": [
    "from sklearn.naive_bayes import GaussianNB\n",
    "\n",
    "def normPDFboi(mean, std):\n",
    "    return (lambda x: 1 / math.sqrt(2*np.pi*pow(std, 2)) * np.exp(-pow((x - mean), 2)/2/pow(std, 2)))\n",
    "\n",
    "class NaiveBayesBoi(object):\n",
    "    \n",
    "    def __init__(self, useScikit = False):\n",
    "        self.means = []\n",
    "        self.stds = []\n",
    "        self.useScikit = useScikit\n",
    "        self.skClassifier = None\n",
    "\n",
    "    def train(self, pointsLists):\n",
    "        if not self.useScikit:\n",
    "            self.means = []\n",
    "            self.stds = []\n",
    "            for pointsList in pointsLists:\n",
    "                pointMatrix = np.array(pointsList).T\n",
    "                self.means.append(np.mean(pointMatrix, axis = 1))\n",
    "                self.stds.append(np.std(pointMatrix, axis = 1))\n",
    "        else:\n",
    "            self.skClassifier = GaussianNB()\n",
    "            X = []\n",
    "            Y = []\n",
    "            for i, pointsList in enumerate(pointsLists):\n",
    "                for point in pointsList:\n",
    "                    X.append(point)\n",
    "                    Y.append(i)\n",
    "            self.skClassifier.fit(X, Y)\n",
    "\n",
    "    def classify(self, point):\n",
    "        if not self.useScikit:\n",
    "            probs = []\n",
    "            for i in range(len(self.means)):\n",
    "                currProb = 1\n",
    "                for j in range(len(point)):\n",
    "                    f = normPDFboi(self.means[i][j], self.stds[i][j])\n",
    "                    currProb *= f(point[j])\n",
    "                probs.append(currProb)\n",
    "            return np.argmax(probs)\n",
    "        else:\n",
    "            return self.skClassifier.predict(np.matrix(point))\n",
    "    \n",
    "    \n",
    "class CrossValidationBoi(object):\n",
    "    \n",
    "    def __init__(self, k, pointsLists):\n",
    "        \"\"\"\n",
    "        pointsLists = list of lists of points such that if two points are in the same list, they share the same classification.\n",
    "        \"\"\"\n",
    "        self.k = k\n",
    "        self.pointsLists = pointsLists\n",
    "        self.pointsTable = {}\n",
    "        self.masterList = []\n",
    "        for i, pointsList in enumerate(pointsLists):\n",
    "            for point in pointsList:\n",
    "                self.pointsTable[str(point)] = i\n",
    "                self.masterList.append(point)\n",
    "    \n",
    "        # Shuffle the masterList (which contains all of the points, randomly shuffled) and make folds out of it!\n",
    "        np.random.shuffle(self.masterList)\n",
    "        self.foldSize = len(self.masterList) / k\n",
    "        self.folds = [[] for i in range(k)]\n",
    "        for i, point in enumerate(self.masterList):\n",
    "            currIndex = min(i / self.foldSize, k - 1)\n",
    "            self.folds[currIndex].append(point)      \n",
    "            \n",
    "    def performValidation(self, useScikit = False):\n",
    "        fracsCorrect = []\n",
    "\n",
    "        for i in range(len(self.folds)):\n",
    "            trainingPoints = []\n",
    "            testingPoints = []\n",
    "            for j, fold in enumerate(self.folds):\n",
    "                if j == i:\n",
    "                    testingPoints += [point for point in fold]\n",
    "                else:\n",
    "                    trainingPoints += [point for point in fold]\n",
    "            trainingPointsLists = [[] for _  in range(len(self.pointsLists))]\n",
    "            for point in trainingPoints:\n",
    "                hval = str(point)\n",
    "                currIndex = self.pointsTable[hval]\n",
    "                trainingPointsLists[currIndex].append(point)\n",
    "            \n",
    "            # Perform training and classification\n",
    "            nb = NaiveBayesBoi(useScikit = useScikit)\n",
    "            nb.train(trainingPointsLists)\n",
    "            \n",
    "            numCorrect = 0\n",
    "            for point in testingPoints:\n",
    "                classified = nb.classify(point)\n",
    "                correctAns = self.pointsTable[str(point)]\n",
    "                # print classified, correctAns\n",
    "                if self.pointsTable[str(point)] == classified:\n",
    "                    numCorrect += 1\n",
    "                    \n",
    "            fracsCorrect.append( float(numCorrect) / len(testingPoints) )\n",
    "\n",
    "        mean = np.mean(fracsCorrect)\n",
    "        variance = np.var(fracsCorrect)\n",
    "        \n",
    "        return fracsCorrect, mean, variance\n",
    "    \n",
    "    \n",
    "def questionTwo():\n",
    "    k = 5\n",
    "    samples, labels = load_wine(return_X_y=True)\n",
    "    colSamples = samples.T\n",
    "    \n",
    "    # Get centered points lists, and perform Naive Bayes classification\n",
    "    PCAsamples = PCA(colSamples, 2)\n",
    "    pointsLists = [[PCAsamples[:, i] for i, label in enumerate(labels) if label == target] for target in range(3)]\n",
    "    \n",
    "    print \"Only centered data:\"\n",
    "    cv1 = CrossValidationBoi(k, pointsLists)\n",
    "    fracsCorrect, mean, variance = cv1.performValidation()\n",
    "    print \"Fracs correct = {}\\nmean = {}\\nvariance = {}\\n\".format(fracsCorrect, mean, variance)\n",
    "    \n",
    "    # Get centered and normalized points lists\n",
    "    nPCASamples = PCA(colSamples, 2, norm = True)\n",
    "    nPointsLists = [[nPCASamples[:, i] for i, label in enumerate(labels) if label == target] for target in range(3)]\n",
    "\n",
    "    print \"Centered and normalized (standardized) data:\"\n",
    "    cv2 = CrossValidationBoi(k, nPointsLists)\n",
    "    fracsCorrect, mean, variance = cv2.performValidation()\n",
    "    print \"Fracs correct = {}\\nmean = {}\\nvariance = {}\\n\".format(fracsCorrect, mean, variance)\n",
    "    \n",
    "    print \"Centered and normalized (standardized) data, using scikit-learn:\"\n",
    "    cv3 = CrossValidationBoi(k, nPointsLists)\n",
    "    fracsCorrect, mean, variance = cv3.performValidation(useScikit = True)\n",
    "    print \"Fracs correct = {}\\nmean = {}\\nvariance = {}\\n\".format(fracsCorrect, mean, variance)\n",
    "    \n",
    "\n",
    "questionTwo()\n",
    "        \n",
    "        "
   ]
  },
  {
   "cell_type": "markdown",
   "metadata": {},
   "source": [
    "Using the centered data yielded much less accurate results than using standardized data. Using my own implementation of the algorithm yielded similar results to using the pre-implemented algorithm in scikit-learn. Perhaps the scikit-learn implementation uses some optimizations that may yield different results from just the naive algorithm."
   ]
  }
 ],
 "metadata": {
  "kernelspec": {
   "display_name": "Python 2",
   "language": "python",
   "name": "python2"
  },
  "language_info": {
   "codemirror_mode": {
    "name": "ipython",
    "version": 2
   },
   "file_extension": ".py",
   "mimetype": "text/x-python",
   "name": "python",
   "nbconvert_exporter": "python",
   "pygments_lexer": "ipython2",
   "version": "2.7.15"
  }
 },
 "nbformat": 4,
 "nbformat_minor": 2
}
